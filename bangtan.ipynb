{
 "cells": [
  {
   "cell_type": "markdown",
   "metadata": {
    "papermill": {
     "duration": 0.008911,
     "end_time": "2020-09-19T07:44:10.996308",
     "exception": false,
     "start_time": "2020-09-19T07:44:10.987397",
     "status": "completed"
    },
    "tags": []
   },
   "source": [
    "# GETTING BTS DATA"
   ]
  },
  {
   "cell_type": "code",
   "execution_count": 1,
   "metadata": {
    "execution": {
     "iopub.execute_input": "2020-09-19T07:44:11.018679Z",
     "iopub.status.busy": "2020-09-19T07:44:11.017823Z",
     "iopub.status.idle": "2020-09-19T07:44:21.888174Z",
     "shell.execute_reply": "2020-09-19T07:44:21.887479Z"
    },
    "papermill": {
     "duration": 10.884189,
     "end_time": "2020-09-19T07:44:21.888344",
     "exception": false,
     "start_time": "2020-09-19T07:44:11.004155",
     "status": "completed"
    },
    "tags": []
   },
   "outputs": [
    {
     "name": "stdout",
     "output_type": "stream",
     "text": [
      "Collecting spotipy\r\n",
      "  Downloading spotipy-2.16.0-py3-none-any.whl (24 kB)\r\n",
      "Requirement already satisfied: requests>=2.20.0 in /opt/conda/lib/python3.7/site-packages (from spotipy) (2.23.0)\r\n",
      "Requirement already satisfied: six>=1.10.0 in /opt/conda/lib/python3.7/site-packages (from spotipy) (1.14.0)\r\n",
      "Requirement already satisfied: certifi>=2017.4.17 in /opt/conda/lib/python3.7/site-packages (from requests>=2.20.0->spotipy) (2020.6.20)\r\n",
      "Requirement already satisfied: idna<3,>=2.5 in /opt/conda/lib/python3.7/site-packages (from requests>=2.20.0->spotipy) (2.9)\r\n",
      "Requirement already satisfied: chardet<4,>=3.0.2 in /opt/conda/lib/python3.7/site-packages (from requests>=2.20.0->spotipy) (3.0.4)\r\n",
      "Requirement already satisfied: urllib3!=1.25.0,!=1.25.1,<1.26,>=1.21.1 in /opt/conda/lib/python3.7/site-packages (from requests>=2.20.0->spotipy) (1.24.3)\r\n",
      "Installing collected packages: spotipy\r\n",
      "Successfully installed spotipy-2.16.0\r\n",
      "\u001b[33mWARNING: You are using pip version 20.2.2; however, version 20.2.3 is available.\r\n",
      "You should consider upgrading via the '/opt/conda/bin/python3.7 -m pip install --upgrade pip' command.\u001b[0m\r\n"
     ]
    }
   ],
   "source": [
    "!pip install spotipy"
   ]
  },
  {
   "cell_type": "code",
   "execution_count": 2,
   "metadata": {
    "_cell_guid": "79c7e3d0-c299-4dcb-8224-4455121ee9b0",
    "_uuid": "d629ff2d2480ee46fbb7e2d37f6b5fab8052498a",
    "execution": {
     "iopub.execute_input": "2020-09-19T07:44:21.916843Z",
     "iopub.status.busy": "2020-09-19T07:44:21.916069Z",
     "iopub.status.idle": "2020-09-19T07:44:21.933865Z",
     "shell.execute_reply": "2020-09-19T07:44:21.933147Z"
    },
    "papermill": {
     "duration": 0.034165,
     "end_time": "2020-09-19T07:44:21.933994",
     "exception": false,
     "start_time": "2020-09-19T07:44:21.899829",
     "status": "completed"
    },
    "tags": []
   },
   "outputs": [],
   "source": [
    "import spotipy\n",
    "import pandas as pd\n",
    "from spotipy.oauth2 import SpotifyClientCredentials"
   ]
  },
  {
   "cell_type": "code",
   "execution_count": 3,
   "metadata": {
    "execution": {
     "iopub.execute_input": "2020-09-19T07:44:21.974667Z",
     "iopub.status.busy": "2020-09-19T07:44:21.971765Z",
     "iopub.status.idle": "2020-09-19T07:45:11.270890Z",
     "shell.execute_reply": "2020-09-19T07:45:11.270047Z"
    },
    "papermill": {
     "duration": 49.324204,
     "end_time": "2020-09-19T07:45:11.271054",
     "exception": false,
     "start_time": "2020-09-19T07:44:21.946850",
     "status": "completed"
    },
    "tags": []
   },
   "outputs": [],
   "source": [
    "#Add your own id and key!\n",
    "my_id = '********************************'\n",
    "secret_key = '********************************'\n",
    "\n",
    "\n",
    "client_credentials_manager = SpotifyClientCredentials(client_id = my_id, client_secret = secret_key)\n",
    "sp = spotipy.Spotify(client_credentials_manager=client_credentials_manager)\n",
    "\n",
    "feature_list = []\n",
    "artistalbums = sp.artist_albums(artist_id = 'https://open.spotify.com/artist/3Nrfpe0tUJi4K4DXYWgMUX', limit = 50)\n",
    "\n",
    "#go to their individual albums\n",
    "for i in range(len(artistalbums['items'])):\n",
    "    album_uri = artistalbums['items'][i]['uri']\n",
    "    album_tracks = sp.album_tracks(album_uri)\n",
    "        \n",
    "    #go to their individual tracks\n",
    "    for j in range(len(album_tracks['items'])):\n",
    "        album_song = album_tracks['items'][j]['uri']\n",
    "        audiofeatures = sp.audio_features(album_song)\n",
    "        #extract individual audio features of individual tracks\n",
    "        for feature in audiofeatures:\n",
    "            feature_list.append([feature['danceability'], feature['energy'], feature['key'], feature['speechiness'],\n",
    "            feature['acousticness'], feature['instrumentalness'], feature['liveness'], feature['valence'],feature['tempo'],\n",
    "            feature['duration_ms'],feature['time_signature'], artistalbums['items'][0]['artists'][0]['name'],\n",
    "            artistalbums['items'][i]['release_date'], album_tracks['items'][j]['name']])\n",
    "\n",
    "\n",
    "bts = pd.DataFrame(feature_list, columns = ['danceability','energy','key','speechiness','acousticness','instrumentalness','liveness','valence','tempo','duration_ms','time_signature', 'artist_name', 'release_date', 'song_name'])"
   ]
  },
  {
   "cell_type": "markdown",
   "metadata": {
    "papermill": {
     "duration": 0.01089,
     "end_time": "2020-09-19T07:45:11.293727",
     "exception": false,
     "start_time": "2020-09-19T07:45:11.282837",
     "status": "completed"
    },
    "tags": []
   },
   "source": [
    "## **A LOOK AT THE DATA**"
   ]
  },
  {
   "cell_type": "markdown",
   "metadata": {
    "papermill": {
     "duration": 0.010742,
     "end_time": "2020-09-19T07:45:11.315716",
     "exception": false,
     "start_time": "2020-09-19T07:45:11.304974",
     "status": "completed"
    },
    "tags": []
   },
   "source": [
    "BTS has released **450** tracks between June 2013 and August 2020"
   ]
  },
  {
   "cell_type": "code",
   "execution_count": 4,
   "metadata": {
    "execution": {
     "iopub.execute_input": "2020-09-19T07:45:11.347324Z",
     "iopub.status.busy": "2020-09-19T07:45:11.346202Z",
     "iopub.status.idle": "2020-09-19T07:45:11.352583Z",
     "shell.execute_reply": "2020-09-19T07:45:11.351773Z"
    },
    "papermill": {
     "duration": 0.025851,
     "end_time": "2020-09-19T07:45:11.352723",
     "exception": false,
     "start_time": "2020-09-19T07:45:11.326872",
     "status": "completed"
    },
    "tags": []
   },
   "outputs": [
    {
     "data": {
      "text/plain": [
       "(450, 14)"
      ]
     },
     "execution_count": 4,
     "metadata": {},
     "output_type": "execute_result"
    }
   ],
   "source": [
    "bts.shape"
   ]
  },
  {
   "cell_type": "code",
   "execution_count": 5,
   "metadata": {
    "execution": {
     "iopub.execute_input": "2020-09-19T07:45:11.397930Z",
     "iopub.status.busy": "2020-09-19T07:45:11.393276Z",
     "iopub.status.idle": "2020-09-19T07:45:11.413564Z",
     "shell.execute_reply": "2020-09-19T07:45:11.412790Z"
    },
    "papermill": {
     "duration": 0.048835,
     "end_time": "2020-09-19T07:45:11.413702",
     "exception": false,
     "start_time": "2020-09-19T07:45:11.364867",
     "status": "completed"
    },
    "tags": []
   },
   "outputs": [
    {
     "data": {
      "text/html": [
       "<div>\n",
       "<style scoped>\n",
       "    .dataframe tbody tr th:only-of-type {\n",
       "        vertical-align: middle;\n",
       "    }\n",
       "\n",
       "    .dataframe tbody tr th {\n",
       "        vertical-align: top;\n",
       "    }\n",
       "\n",
       "    .dataframe thead th {\n",
       "        text-align: right;\n",
       "    }\n",
       "</style>\n",
       "<table border=\"1\" class=\"dataframe\">\n",
       "  <thead>\n",
       "    <tr style=\"text-align: right;\">\n",
       "      <th></th>\n",
       "      <th>danceability</th>\n",
       "      <th>energy</th>\n",
       "      <th>key</th>\n",
       "      <th>speechiness</th>\n",
       "      <th>acousticness</th>\n",
       "      <th>instrumentalness</th>\n",
       "      <th>liveness</th>\n",
       "      <th>valence</th>\n",
       "      <th>tempo</th>\n",
       "      <th>duration_ms</th>\n",
       "      <th>time_signature</th>\n",
       "      <th>artist_name</th>\n",
       "      <th>release_date</th>\n",
       "      <th>song_name</th>\n",
       "    </tr>\n",
       "  </thead>\n",
       "  <tbody>\n",
       "    <tr>\n",
       "      <th>0</th>\n",
       "      <td>0.486</td>\n",
       "      <td>0.610</td>\n",
       "      <td>10</td>\n",
       "      <td>0.0348</td>\n",
       "      <td>0.5820</td>\n",
       "      <td>0.791</td>\n",
       "      <td>0.1440</td>\n",
       "      <td>0.0806</td>\n",
       "      <td>144.992</td>\n",
       "      <td>84613</td>\n",
       "      <td>4</td>\n",
       "      <td>BTS</td>\n",
       "      <td>2020-07-14</td>\n",
       "      <td>INTRO : Calling</td>\n",
       "    </tr>\n",
       "    <tr>\n",
       "      <th>1</th>\n",
       "      <td>0.723</td>\n",
       "      <td>0.634</td>\n",
       "      <td>1</td>\n",
       "      <td>0.0542</td>\n",
       "      <td>0.0892</td>\n",
       "      <td>0.000</td>\n",
       "      <td>0.0787</td>\n",
       "      <td>0.5820</td>\n",
       "      <td>129.017</td>\n",
       "      <td>243267</td>\n",
       "      <td>4</td>\n",
       "      <td>BTS</td>\n",
       "      <td>2020-07-14</td>\n",
       "      <td>Stay Gold</td>\n",
       "    </tr>\n",
       "    <tr>\n",
       "      <th>2</th>\n",
       "      <td>0.673</td>\n",
       "      <td>0.855</td>\n",
       "      <td>11</td>\n",
       "      <td>0.0890</td>\n",
       "      <td>0.0661</td>\n",
       "      <td>0.000</td>\n",
       "      <td>0.2090</td>\n",
       "      <td>0.7800</td>\n",
       "      <td>119.917</td>\n",
       "      <td>230013</td>\n",
       "      <td>4</td>\n",
       "      <td>BTS</td>\n",
       "      <td>2020-07-14</td>\n",
       "      <td>Boy With Luv - Japanese ver.</td>\n",
       "    </tr>\n",
       "    <tr>\n",
       "      <th>3</th>\n",
       "      <td>0.571</td>\n",
       "      <td>0.703</td>\n",
       "      <td>7</td>\n",
       "      <td>0.4680</td>\n",
       "      <td>0.0163</td>\n",
       "      <td>0.000</td>\n",
       "      <td>0.2620</td>\n",
       "      <td>0.2380</td>\n",
       "      <td>104.067</td>\n",
       "      <td>225520</td>\n",
       "      <td>4</td>\n",
       "      <td>BTS</td>\n",
       "      <td>2020-07-14</td>\n",
       "      <td>Make It Right - Japanese ver.</td>\n",
       "    </tr>\n",
       "    <tr>\n",
       "      <th>4</th>\n",
       "      <td>0.455</td>\n",
       "      <td>0.893</td>\n",
       "      <td>7</td>\n",
       "      <td>0.1480</td>\n",
       "      <td>0.0218</td>\n",
       "      <td>0.000</td>\n",
       "      <td>0.3580</td>\n",
       "      <td>0.5880</td>\n",
       "      <td>175.992</td>\n",
       "      <td>248907</td>\n",
       "      <td>4</td>\n",
       "      <td>BTS</td>\n",
       "      <td>2020-07-14</td>\n",
       "      <td>Dionysus - Japanese ver.</td>\n",
       "    </tr>\n",
       "  </tbody>\n",
       "</table>\n",
       "</div>"
      ],
      "text/plain": [
       "   danceability  energy  key  speechiness  acousticness  instrumentalness  \\\n",
       "0         0.486   0.610   10       0.0348        0.5820             0.791   \n",
       "1         0.723   0.634    1       0.0542        0.0892             0.000   \n",
       "2         0.673   0.855   11       0.0890        0.0661             0.000   \n",
       "3         0.571   0.703    7       0.4680        0.0163             0.000   \n",
       "4         0.455   0.893    7       0.1480        0.0218             0.000   \n",
       "\n",
       "   liveness  valence    tempo  duration_ms  time_signature artist_name  \\\n",
       "0    0.1440   0.0806  144.992        84613               4         BTS   \n",
       "1    0.0787   0.5820  129.017       243267               4         BTS   \n",
       "2    0.2090   0.7800  119.917       230013               4         BTS   \n",
       "3    0.2620   0.2380  104.067       225520               4         BTS   \n",
       "4    0.3580   0.5880  175.992       248907               4         BTS   \n",
       "\n",
       "  release_date                      song_name  \n",
       "0   2020-07-14                INTRO : Calling  \n",
       "1   2020-07-14                      Stay Gold  \n",
       "2   2020-07-14   Boy With Luv - Japanese ver.  \n",
       "3   2020-07-14  Make It Right - Japanese ver.  \n",
       "4   2020-07-14       Dionysus - Japanese ver.  "
      ]
     },
     "execution_count": 5,
     "metadata": {},
     "output_type": "execute_result"
    }
   ],
   "source": [
    "bts.head()"
   ]
  },
  {
   "cell_type": "code",
   "execution_count": 6,
   "metadata": {
    "execution": {
     "iopub.execute_input": "2020-09-19T07:45:11.444784Z",
     "iopub.status.busy": "2020-09-19T07:45:11.443866Z",
     "iopub.status.idle": "2020-09-19T07:45:11.819868Z",
     "shell.execute_reply": "2020-09-19T07:45:11.819233Z"
    },
    "papermill": {
     "duration": 0.393689,
     "end_time": "2020-09-19T07:45:11.820001",
     "exception": false,
     "start_time": "2020-09-19T07:45:11.426312",
     "status": "completed"
    },
    "tags": []
   },
   "outputs": [],
   "source": [
    "#Saving the data\n",
    "bts.to_csv(r'bts.csv',header=True)"
   ]
  }
 ],
 "metadata": {
  "kernelspec": {
   "display_name": "Python 3",
   "language": "python",
   "name": "python3"
  },
  "language_info": {
   "codemirror_mode": {
    "name": "ipython",
    "version": 3
   },
   "file_extension": ".py",
   "mimetype": "text/x-python",
   "name": "python",
   "nbconvert_exporter": "python",
   "pygments_lexer": "ipython3",
   "version": "3.7.6"
  },
  "papermill": {
   "duration": 65.941008,
   "end_time": "2020-09-19T07:45:11.940690",
   "environment_variables": {},
   "exception": null,
   "input_path": "__notebook__.ipynb",
   "output_path": "__notebook__.ipynb",
   "parameters": {},
   "start_time": "2020-09-19T07:44:05.999682",
   "version": "2.1.0"
  }
 },
 "nbformat": 4,
 "nbformat_minor": 4
}
