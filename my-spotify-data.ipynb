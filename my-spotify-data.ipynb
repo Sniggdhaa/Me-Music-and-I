{
 "cells": [
  {
   "cell_type": "markdown",
   "metadata": {
    "papermill": {
     "duration": 0.010027,
     "end_time": "2020-09-19T07:48:47.517098",
     "exception": false,
     "start_time": "2020-09-19T07:48:47.507071",
     "status": "completed"
    },
    "tags": []
   },
   "source": [
    "# CONVERTING MY SPOTIFY HISTORY FILE TO CSV"
   ]
  },
  {
   "cell_type": "code",
   "execution_count": 1,
   "metadata": {
    "_cell_guid": "79c7e3d0-c299-4dcb-8224-4455121ee9b0",
    "_uuid": "d629ff2d2480ee46fbb7e2d37f6b5fab8052498a",
    "execution": {
     "iopub.execute_input": "2020-09-19T07:48:47.541882Z",
     "iopub.status.busy": "2020-09-19T07:48:47.540839Z",
     "iopub.status.idle": "2020-09-19T07:48:47.543934Z",
     "shell.execute_reply": "2020-09-19T07:48:47.543212Z"
    },
    "papermill": {
     "duration": 0.017755,
     "end_time": "2020-09-19T07:48:47.544062",
     "exception": false,
     "start_time": "2020-09-19T07:48:47.526307",
     "status": "completed"
    },
    "tags": []
   },
   "outputs": [],
   "source": [
    "import json \n",
    "import csv\n",
    "import pandas as pd\n",
    "import numpy as np "
   ]
  },
  {
   "cell_type": "code",
   "execution_count": 2,
   "metadata": {
    "execution": {
     "iopub.execute_input": "2020-09-19T07:48:47.571943Z",
     "iopub.status.busy": "2020-09-19T07:48:47.571052Z",
     "iopub.status.idle": "2020-09-19T07:48:47.609209Z",
     "shell.execute_reply": "2020-09-19T07:48:47.608293Z"
    },
    "papermill": {
     "duration": 0.055793,
     "end_time": "2020-09-19T07:48:47.609345",
     "exception": false,
     "start_time": "2020-09-19T07:48:47.553552",
     "status": "completed"
    },
    "tags": []
   },
   "outputs": [],
   "source": [
    "with open(r'../input/myhistory/StreamingHistory0.json') as json_file: \n",
    "    mydata_json = json.load(json_file) \n",
    "    \n",
    "#Opening a file for writing \n",
    "mydata_csv = open('data_file.csv', 'w') \n",
    "  \n",
    "#Creating the csv writer object \n",
    "csv_writer = csv.writer(mydata_csv) \n",
    "  \n",
    "#Counter variable used for writing headers to the CSV file \n",
    "count = 0\n",
    "  \n",
    "for item in mydata_json: \n",
    "    if count == 0: \n",
    "  \n",
    "        #Writing headers of CSV file \n",
    "        header = item.keys() \n",
    "        csv_writer.writerow(header) \n",
    "        count += 1\n",
    "  \n",
    "    #Writing data of CSV file \n",
    "    csv_writer.writerow(item.values()) \n",
    "    \n",
    "mydata_csv.close() "
   ]
  },
  {
   "cell_type": "markdown",
   "metadata": {
    "papermill": {
     "duration": 0.00886,
     "end_time": "2020-09-19T07:48:47.627515",
     "exception": false,
     "start_time": "2020-09-19T07:48:47.618655",
     "status": "completed"
    },
    "tags": []
   },
   "source": [
    "## **A LOOK AT THE DATA**"
   ]
  },
  {
   "cell_type": "code",
   "execution_count": 3,
   "metadata": {
    "execution": {
     "iopub.execute_input": "2020-09-19T07:48:47.654819Z",
     "iopub.status.busy": "2020-09-19T07:48:47.653605Z",
     "iopub.status.idle": "2020-09-19T07:48:47.694050Z",
     "shell.execute_reply": "2020-09-19T07:48:47.693446Z"
    },
    "papermill": {
     "duration": 0.056824,
     "end_time": "2020-09-19T07:48:47.694191",
     "exception": false,
     "start_time": "2020-09-19T07:48:47.637367",
     "status": "completed"
    },
    "tags": []
   },
   "outputs": [
    {
     "data": {
      "text/html": [
       "<div>\n",
       "<style scoped>\n",
       "    .dataframe tbody tr th:only-of-type {\n",
       "        vertical-align: middle;\n",
       "    }\n",
       "\n",
       "    .dataframe tbody tr th {\n",
       "        vertical-align: top;\n",
       "    }\n",
       "\n",
       "    .dataframe thead th {\n",
       "        text-align: right;\n",
       "    }\n",
       "</style>\n",
       "<table border=\"1\" class=\"dataframe\">\n",
       "  <thead>\n",
       "    <tr style=\"text-align: right;\">\n",
       "      <th></th>\n",
       "      <th>endTime</th>\n",
       "      <th>artistName</th>\n",
       "      <th>trackName</th>\n",
       "      <th>msPlayed</th>\n",
       "    </tr>\n",
       "  </thead>\n",
       "  <tbody>\n",
       "    <tr>\n",
       "      <th>0</th>\n",
       "      <td>2019-09-03 13:19</td>\n",
       "      <td>The Weeknd</td>\n",
       "      <td>Call Out My Name</td>\n",
       "      <td>89476</td>\n",
       "    </tr>\n",
       "    <tr>\n",
       "      <th>1</th>\n",
       "      <td>2019-09-08 10:42</td>\n",
       "      <td>The Weeknd</td>\n",
       "      <td>Call Out My Name</td>\n",
       "      <td>138897</td>\n",
       "    </tr>\n",
       "    <tr>\n",
       "      <th>2</th>\n",
       "      <td>2019-09-08 10:46</td>\n",
       "      <td>Cartoon</td>\n",
       "      <td>On &amp; On</td>\n",
       "      <td>207068</td>\n",
       "    </tr>\n",
       "    <tr>\n",
       "      <th>3</th>\n",
       "      <td>2019-09-08 10:50</td>\n",
       "      <td>Liam Payne</td>\n",
       "      <td>For You (Fifty Shades Freed) (&amp; Rita Ora)</td>\n",
       "      <td>245453</td>\n",
       "    </tr>\n",
       "    <tr>\n",
       "      <th>4</th>\n",
       "      <td>2019-09-08 11:05</td>\n",
       "      <td>Daft Punk</td>\n",
       "      <td>Instant Crush (feat. Julian Casablancas)</td>\n",
       "      <td>286040</td>\n",
       "    </tr>\n",
       "  </tbody>\n",
       "</table>\n",
       "</div>"
      ],
      "text/plain": [
       "            endTime  artistName                                  trackName  \\\n",
       "0  2019-09-03 13:19  The Weeknd                           Call Out My Name   \n",
       "1  2019-09-08 10:42  The Weeknd                           Call Out My Name   \n",
       "2  2019-09-08 10:46     Cartoon                                    On & On   \n",
       "3  2019-09-08 10:50  Liam Payne  For You (Fifty Shades Freed) (& Rita Ora)   \n",
       "4  2019-09-08 11:05   Daft Punk   Instant Crush (feat. Julian Casablancas)   \n",
       "\n",
       "   msPlayed  \n",
       "0     89476  \n",
       "1    138897  \n",
       "2    207068  \n",
       "3    245453  \n",
       "4    286040  "
      ]
     },
     "execution_count": 3,
     "metadata": {},
     "output_type": "execute_result"
    }
   ],
   "source": [
    "data = pd.read_csv('./data_file.csv')\n",
    "data.head()"
   ]
  },
  {
   "cell_type": "code",
   "execution_count": 4,
   "metadata": {
    "execution": {
     "iopub.execute_input": "2020-09-19T07:48:47.725806Z",
     "iopub.status.busy": "2020-09-19T07:48:47.724975Z",
     "iopub.status.idle": "2020-09-19T07:48:47.754851Z",
     "shell.execute_reply": "2020-09-19T07:48:47.754086Z"
    },
    "papermill": {
     "duration": 0.050367,
     "end_time": "2020-09-19T07:48:47.754979",
     "exception": false,
     "start_time": "2020-09-19T07:48:47.704612",
     "status": "completed"
    },
    "tags": []
   },
   "outputs": [
    {
     "data": {
      "text/html": [
       "<div>\n",
       "<style scoped>\n",
       "    .dataframe tbody tr th:only-of-type {\n",
       "        vertical-align: middle;\n",
       "    }\n",
       "\n",
       "    .dataframe tbody tr th {\n",
       "        vertical-align: top;\n",
       "    }\n",
       "\n",
       "    .dataframe thead th {\n",
       "        text-align: right;\n",
       "    }\n",
       "</style>\n",
       "<table border=\"1\" class=\"dataframe\">\n",
       "  <thead>\n",
       "    <tr style=\"text-align: right;\">\n",
       "      <th></th>\n",
       "      <th>Date</th>\n",
       "      <th>artistName</th>\n",
       "      <th>trackName</th>\n",
       "      <th>msPlayed</th>\n",
       "    </tr>\n",
       "  </thead>\n",
       "  <tbody>\n",
       "    <tr>\n",
       "      <th>0</th>\n",
       "      <td>2019-09-03</td>\n",
       "      <td>The Weeknd</td>\n",
       "      <td>Call Out My Name</td>\n",
       "      <td>89476</td>\n",
       "    </tr>\n",
       "    <tr>\n",
       "      <th>1</th>\n",
       "      <td>2019-09-08</td>\n",
       "      <td>The Weeknd</td>\n",
       "      <td>Call Out My Name</td>\n",
       "      <td>138897</td>\n",
       "    </tr>\n",
       "    <tr>\n",
       "      <th>2</th>\n",
       "      <td>2019-09-08</td>\n",
       "      <td>Cartoon</td>\n",
       "      <td>On &amp; On</td>\n",
       "      <td>207068</td>\n",
       "    </tr>\n",
       "    <tr>\n",
       "      <th>3</th>\n",
       "      <td>2019-09-08</td>\n",
       "      <td>Liam Payne</td>\n",
       "      <td>For You (Fifty Shades Freed) (&amp; Rita Ora)</td>\n",
       "      <td>245453</td>\n",
       "    </tr>\n",
       "    <tr>\n",
       "      <th>4</th>\n",
       "      <td>2019-09-08</td>\n",
       "      <td>Daft Punk</td>\n",
       "      <td>Instant Crush (feat. Julian Casablancas)</td>\n",
       "      <td>286040</td>\n",
       "    </tr>\n",
       "  </tbody>\n",
       "</table>\n",
       "</div>"
      ],
      "text/plain": [
       "         Date  artistName                                  trackName  msPlayed\n",
       "0  2019-09-03  The Weeknd                           Call Out My Name     89476\n",
       "1  2019-09-08  The Weeknd                           Call Out My Name    138897\n",
       "2  2019-09-08     Cartoon                                    On & On    207068\n",
       "3  2019-09-08  Liam Payne  For You (Fifty Shades Freed) (& Rita Ora)    245453\n",
       "4  2019-09-08   Daft Punk   Instant Crush (feat. Julian Casablancas)    286040"
      ]
     },
     "execution_count": 4,
     "metadata": {},
     "output_type": "execute_result"
    }
   ],
   "source": [
    "data['endTime'] = pd.to_datetime(data['endTime'], format =\"%Y-%m-%d\")\n",
    "data['endTime'] = data['endTime'].dt.date\n",
    "data.rename(columns={'endTime' : 'Date'}, inplace= True)\n",
    "data.sort_values(by='Date', inplace= True)\n",
    "data.head()"
   ]
  },
  {
   "cell_type": "code",
   "execution_count": 5,
   "metadata": {
    "execution": {
     "iopub.execute_input": "2020-09-19T07:48:47.782765Z",
     "iopub.status.busy": "2020-09-19T07:48:47.781899Z",
     "iopub.status.idle": "2020-09-19T07:48:48.186313Z",
     "shell.execute_reply": "2020-09-19T07:48:48.185598Z"
    },
    "papermill": {
     "duration": 0.420445,
     "end_time": "2020-09-19T07:48:48.186457",
     "exception": false,
     "start_time": "2020-09-19T07:48:47.766012",
     "status": "completed"
    },
    "tags": []
   },
   "outputs": [],
   "source": [
    "#Saving the data\n",
    "data.to_csv(r'spotify_data.csv',header=True)"
   ]
  },
  {
   "cell_type": "markdown",
   "metadata": {
    "papermill": {
     "duration": 0.013911,
     "end_time": "2020-09-19T07:48:48.217964",
     "exception": false,
     "start_time": "2020-09-19T07:48:48.204053",
     "status": "completed"
    },
    "tags": []
   },
   "source": [
    "I STREAMED **4275** TRACKS ON SPOTIFY BETWEEN SEPTEMBER 2019-SEPTEMBER 2020"
   ]
  },
  {
   "cell_type": "code",
   "execution_count": 6,
   "metadata": {
    "execution": {
     "iopub.execute_input": "2020-09-19T07:48:48.246212Z",
     "iopub.status.busy": "2020-09-19T07:48:48.245324Z",
     "iopub.status.idle": "2020-09-19T07:48:48.249846Z",
     "shell.execute_reply": "2020-09-19T07:48:48.249118Z"
    },
    "papermill": {
     "duration": 0.020964,
     "end_time": "2020-09-19T07:48:48.249972",
     "exception": false,
     "start_time": "2020-09-19T07:48:48.229008",
     "status": "completed"
    },
    "tags": []
   },
   "outputs": [
    {
     "data": {
      "text/plain": [
       "(4275, 4)"
      ]
     },
     "execution_count": 6,
     "metadata": {},
     "output_type": "execute_result"
    }
   ],
   "source": [
    "data.shape"
   ]
  },
  {
   "cell_type": "markdown",
   "metadata": {
    "papermill": {
     "duration": 0.012929,
     "end_time": "2020-09-19T07:48:48.274537",
     "exception": false,
     "start_time": "2020-09-19T07:48:48.261608",
     "status": "completed"
    },
    "tags": []
   },
   "source": [
    "I STREAMED **6.81 DAYS** or **163.45 HOURS** OF TRACKS ON SPOTIFY BETWEEN SEPTEMBER 2019-SEPTEMBER 2020"
   ]
  },
  {
   "cell_type": "code",
   "execution_count": 7,
   "metadata": {
    "execution": {
     "iopub.execute_input": "2020-09-19T07:48:48.307029Z",
     "iopub.status.busy": "2020-09-19T07:48:48.306146Z",
     "iopub.status.idle": "2020-09-19T07:48:48.310377Z",
     "shell.execute_reply": "2020-09-19T07:48:48.309796Z"
    },
    "papermill": {
     "duration": 0.024356,
     "end_time": "2020-09-19T07:48:48.310506",
     "exception": false,
     "start_time": "2020-09-19T07:48:48.286150",
     "status": "completed"
    },
    "tags": []
   },
   "outputs": [
    {
     "name": "stdout",
     "output_type": "stream",
     "text": [
      "6.81 days\n",
      "163.45 hours\n"
     ]
    }
   ],
   "source": [
    "print (round(data.msPlayed.sum()/86400000,2),'days')\n",
    "print (round(data.msPlayed.sum()/3600000,2),'hours')"
   ]
  }
 ],
 "metadata": {
  "kernelspec": {
   "display_name": "Python 3",
   "language": "python",
   "name": "python3"
  },
  "language_info": {
   "codemirror_mode": {
    "name": "ipython",
    "version": 3
   },
   "file_extension": ".py",
   "mimetype": "text/x-python",
   "name": "python",
   "nbconvert_exporter": "python",
   "pygments_lexer": "ipython3",
   "version": "3.7.6"
  },
  "papermill": {
   "duration": 7.004337,
   "end_time": "2020-09-19T07:48:49.393763",
   "environment_variables": {},
   "exception": null,
   "input_path": "__notebook__.ipynb",
   "output_path": "__notebook__.ipynb",
   "parameters": {},
   "start_time": "2020-09-19T07:48:42.389426",
   "version": "2.1.0"
  }
 },
 "nbformat": 4,
 "nbformat_minor": 4
}
